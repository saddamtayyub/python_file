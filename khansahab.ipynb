{
 "cells": [
  {
   "cell_type": "code",
   "execution_count": null,
   "id": "786d94eb",
   "metadata": {},
   "outputs": [],
   "source": [
    "a=[1,2,3,4,5]\n",
    "len(a)\n"
   ]
  },
  {
   "cell_type": "code",
   "execution_count": null,
   "id": "f92bec27",
   "metadata": {},
   "outputs": [],
   "source": [
    "a=input(\"enter the no.\")\n",
    "a=5\n",
    "if a%2==0:\n",
    "    print(\"no.is even\")\n",
    "else:\n",
    "    print(\"no. is odd\")"
   ]
  },
  {
   "cell_type": "code",
   "execution_count": null,
   "id": "d91480ac",
   "metadata": {},
   "outputs": [],
   "source": [
    "a=[4,45,1,65,87,89,67,78,100]\n",
    "b=[]\n",
    "for i in a:\n",
    "    if i%3==0:\n",
    "        i+=5\n",
    "        b.append(i)\n",
    "        print(b)\n",
    "\n",
    "b"
   ]
  },
  {
   "cell_type": "code",
   "execution_count": null,
   "id": "231bdda4",
   "metadata": {},
   "outputs": [],
   "source": [
    "a=[4,45,1,65,87,89,67,78,100,4]\n",
    "\n",
    "x=a.count(4)\n",
    "x"
   ]
  },
  {
   "cell_type": "code",
   "execution_count": 1,
   "id": "9c729a7a",
   "metadata": {},
   "outputs": [
    {
     "data": {
      "text/plain": [
       "dict_items([('name', 'arshad'), ('age', '24'), ('kaam', 'awaara')])"
      ]
     },
     "execution_count": 1,
     "metadata": {},
     "output_type": "execute_result"
    }
   ],
   "source": [
    "dict1={\"name\":\"arshad\",\"age\":\"24\",\"kaam\":\"awaara\"}\n",
    "dict1\n",
    "x=dict1.items()\n",
    "x\n"
   ]
  },
  {
   "cell_type": "code",
   "execution_count": 2,
   "id": "2e96fb6a",
   "metadata": {},
   "outputs": [
    {
     "name": "stdout",
     "output_type": "stream",
     "text": [
      "1\n",
      "2\n",
      "3\n",
      "4\n",
      "6\n",
      "7\n",
      "8\n",
      "9\n",
      "10\n"
     ]
    }
   ],
   "source": [
    "a=[1,2,3,4,5,6,7,8,9,10]\n",
    "for i in a:\n",
    "    if i!=5:\n",
    "        print(i)\n",
    "    "
   ]
  },
  {
   "cell_type": "code",
   "execution_count": null,
   "id": "6ff92f9f",
   "metadata": {},
   "outputs": [],
   "source": [
    "num=2\n",
    "for i in range(1,11):\n",
    "    print(num,\"x\",i,\"=\",num*i)\n",
    "\n"
   ]
  },
  {
   "cell_type": "code",
   "execution_count": null,
   "id": "e757438b",
   "metadata": {},
   "outputs": [],
   "source": [
    "a=int(input(\"enter a number:\"))\n",
    "for i in \n",
    "\n"
   ]
  },
  {
   "cell_type": "code",
   "execution_count": null,
   "id": "25653bae",
   "metadata": {},
   "outputs": [],
   "source": [
    "a=5\n",
    "b=[]\n",
    "for i in range(a):\n",
    "    b.append(i)\n",
    "b\n",
    "\n",
    "\n"
   ]
  },
  {
   "cell_type": "code",
   "execution_count": 3,
   "id": "100c5193",
   "metadata": {},
   "outputs": [
    {
     "name": "stdout",
     "output_type": "stream",
     "text": [
      "enter the input\n"
     ]
    },
    {
     "ename": "ValueError",
     "evalue": "invalid literal for int() with base 10: ''",
     "output_type": "error",
     "traceback": [
      "\u001b[0;31m---------------------------------------------------------------------------\u001b[0m",
      "\u001b[0;31mValueError\u001b[0m                                Traceback (most recent call last)",
      "\u001b[0;32m/tmp/ipykernel_10610/4037916014.py\u001b[0m in \u001b[0;36m<module>\u001b[0;34m\u001b[0m\n\u001b[0;32m----> 1\u001b[0;31m \u001b[0ma\u001b[0m\u001b[0;34m=\u001b[0m\u001b[0mint\u001b[0m\u001b[0;34m(\u001b[0m\u001b[0minput\u001b[0m\u001b[0;34m(\u001b[0m\u001b[0;34m\"enter the input\"\u001b[0m\u001b[0;34m)\u001b[0m\u001b[0;34m)\u001b[0m\u001b[0;34m\u001b[0m\u001b[0;34m\u001b[0m\u001b[0m\n\u001b[0m\u001b[1;32m      2\u001b[0m \u001b[0mb\u001b[0m\u001b[0;34m=\u001b[0m\u001b[0;34m[\u001b[0m\u001b[0;34m]\u001b[0m\u001b[0;34m\u001b[0m\u001b[0;34m\u001b[0m\u001b[0m\n\u001b[1;32m      3\u001b[0m \u001b[0;32mfor\u001b[0m \u001b[0mi\u001b[0m \u001b[0;32min\u001b[0m \u001b[0mrange\u001b[0m\u001b[0;34m(\u001b[0m\u001b[0ma\u001b[0m\u001b[0;34m)\u001b[0m\u001b[0;34m:\u001b[0m\u001b[0;34m\u001b[0m\u001b[0;34m\u001b[0m\u001b[0m\n\u001b[1;32m      4\u001b[0m     \u001b[0mc\u001b[0m\u001b[0;34m=\u001b[0m\u001b[0mint\u001b[0m\u001b[0;34m(\u001b[0m\u001b[0minput\u001b[0m\u001b[0;34m(\u001b[0m\u001b[0;34m\"enter no.\"\u001b[0m\u001b[0;34m)\u001b[0m\u001b[0;34m)\u001b[0m\u001b[0;34m\u001b[0m\u001b[0;34m\u001b[0m\u001b[0m\n\u001b[1;32m      5\u001b[0m     \u001b[0;32mif\u001b[0m \u001b[0mc\u001b[0m\u001b[0;34m!=\u001b[0m\u001b[0;36m5\u001b[0m \u001b[0;32mand\u001b[0m \u001b[0mc\u001b[0m\u001b[0;34m!=\u001b[0m\u001b[0;36m7\u001b[0m \u001b[0;32mand\u001b[0m \u001b[0mc\u001b[0m\u001b[0;34m!=\u001b[0m\u001b[0;36m8\u001b[0m\u001b[0;34m:\u001b[0m\u001b[0;34m\u001b[0m\u001b[0;34m\u001b[0m\u001b[0m\n",
      "\u001b[0;31mValueError\u001b[0m: invalid literal for int() with base 10: ''"
     ]
    }
   ],
   "source": [
    "a=int(input(\"enter the input\"))\n",
    "b=[]\n",
    "for i in range(a):\n",
    "    c=int(input(\"enter no.\"))\n",
    "    if c!=5 and c!=7 and c!=8:\n",
    "        b.append(c)\n",
    "        \n",
    "    \n",
    "b"
   ]
  },
  {
   "cell_type": "markdown",
   "id": "717d0562",
   "metadata": {},
   "source": []
  },
  {
   "cell_type": "code",
   "execution_count": null,
   "id": "4692e783",
   "metadata": {},
   "outputs": [],
   "source": [
    "a=[]\n",
    "for i in range(0,7):\n",
    "    a.append(i)\n",
    "    \n",
    "a"
   ]
  },
  {
   "cell_type": "code",
   "execution_count": null,
   "id": "a8f8f269",
   "metadata": {},
   "outputs": [],
   "source": [
    "for i in range(9,100):\n",
    "    if i%5==0:\n",
    "        print(i,end=\" \")\n",
    "    "
   ]
  },
  {
   "cell_type": "code",
   "execution_count": null,
   "id": "772c63b5",
   "metadata": {},
   "outputs": [],
   "source": [
    "for i in range(4):\n",
    "    for j in range(i):\n",
    "        print(i,end=\" \")\n",
    "    print()"
   ]
  },
  {
   "cell_type": "code",
   "execution_count": null,
   "id": "066d1e2a",
   "metadata": {},
   "outputs": [],
   "source": [
    "a=[1,2,3,4,5,4,5,3,6,7]\n",
    "b=[]\n",
    "for i in a:\n",
    "    b.append(i)\n",
    "        \n",
    "print(b)"
   ]
  },
  {
   "cell_type": "code",
   "execution_count": null,
   "id": "0135a9c9",
   "metadata": {},
   "outputs": [],
   "source": [
    "a=[1,2,3,4,5,6,7]\n",
    "x=a.clear()\n",
    "x"
   ]
  },
  {
   "cell_type": "code",
   "execution_count": null,
   "id": "d69d4137",
   "metadata": {},
   "outputs": [],
   "source": [
    "a=[1,2,3,4,5,6,7]\n",
    "x=a.copy()\n",
    "x"
   ]
  },
  {
   "cell_type": "code",
   "execution_count": null,
   "id": "27691180",
   "metadata": {},
   "outputs": [],
   "source": [
    "a=[1,2,3,4,5,6,7,8]\n",
    "b=[8,7,6,5,4,3,2,1]\n",
    "a.extend(b)\n",
    "a"
   ]
  },
  {
   "cell_type": "code",
   "execution_count": null,
   "id": "b1315be2",
   "metadata": {},
   "outputs": [],
   "source": [
    "a"
   ]
  },
  {
   "cell_type": "code",
   "execution_count": null,
   "id": "74ab1a76",
   "metadata": {},
   "outputs": [],
   "source": [
    "a.insert(2,9)\n",
    "a"
   ]
  },
  {
   "cell_type": "code",
   "execution_count": null,
   "id": "3eb5b02f",
   "metadata": {},
   "outputs": [],
   "source": [
    "a.index(9)"
   ]
  },
  {
   "cell_type": "code",
   "execution_count": null,
   "id": "123bde92",
   "metadata": {},
   "outputs": [],
   "source": [
    "a.pop(2)"
   ]
  },
  {
   "cell_type": "code",
   "execution_count": null,
   "id": "a5e6164e",
   "metadata": {},
   "outputs": [],
   "source": [
    "a"
   ]
  },
  {
   "cell_type": "code",
   "execution_count": null,
   "id": "8c0660f2",
   "metadata": {},
   "outputs": [],
   "source": [
    "a.remove(4)\n",
    "a"
   ]
  },
  {
   "cell_type": "code",
   "execution_count": null,
   "id": "53659812",
   "metadata": {},
   "outputs": [],
   "source": [
    "a.reverse()\n",
    "a"
   ]
  },
  {
   "cell_type": "code",
   "execution_count": null,
   "id": "6b714f2f",
   "metadata": {},
   "outputs": [],
   "source": [
    "a.sort()\n",
    "a"
   ]
  },
  {
   "cell_type": "code",
   "execution_count": null,
   "id": "9a8397b7",
   "metadata": {},
   "outputs": [],
   "source": [
    "a.reverse()\n",
    "a"
   ]
  },
  {
   "cell_type": "code",
   "execution_count": null,
   "id": "6e650c5b",
   "metadata": {},
   "outputs": [],
   "source": [
    "a=[100,200,300,400,500]\n",
    "a.reverse()\n",
    "a"
   ]
  },
  {
   "cell_type": "code",
   "execution_count": null,
   "id": "f8fc3915",
   "metadata": {},
   "outputs": [],
   "source": [
    "a=[1,2,3,4,5,]\n",
    "b=[100,200,300,400,500]\n",
    "c=[d+e for d,e in zip(a,b)]\n",
    "c\n",
    "\n",
    "    "
   ]
  },
  {
   "cell_type": "code",
   "execution_count": null,
   "id": "76f2e658",
   "metadata": {},
   "outputs": [],
   "source": [
    "a=[1,2,3,4,5]\n",
    "b=[]\n",
    "for i in a:\n",
    "    b.append(i*i)\n",
    "b"
   ]
  },
  {
   "cell_type": "code",
   "execution_count": 17,
   "id": "25f20d5b",
   "metadata": {},
   "outputs": [
    {
     "name": "stdout",
     "output_type": "stream",
     "text": [
      "not equal\n"
     ]
    }
   ],
   "source": [
    "a=[1,2,3,4,5,6,4,7,4]\n",
    "b=[1,2,3,4,5,6,7,4,4]\n",
    "a.sort()\n",
    "b.sort()\n",
    "if a==b:\n",
    "    print(\"equal\")\n",
    "else:\n",
    "    print(\"not equal\")\n"
   ]
  },
  {
   "cell_type": "code",
   "execution_count": 3,
   "id": "5a9f1576",
   "metadata": {},
   "outputs": [
    {
     "name": "stdout",
     "output_type": "stream",
     "text": [
      "0 previous value: -1 sum -1\n",
      "1 previous value: 0 sum 1\n",
      "2 previous value: 1 sum 3\n",
      "3 previous value: 2 sum 5\n",
      "4 previous value: 3 sum 7\n",
      "5 previous value: 4 sum 9\n",
      "6 previous value: 5 sum 11\n",
      "7 previous value: 6 sum 13\n",
      "8 previous value: 7 sum 15\n",
      "9 previous value: 8 sum 17\n",
      "10 previous value: 9 sum 19\n"
     ]
    }
   ],
   "source": [
    "for i in range(11):\n",
    "    p_no=i-1\n",
    "    print(i,\"previous value:\",p_no,\"sum\",p_no+i)"
   ]
  },
  {
   "cell_type": "code",
   "execution_count": 5,
   "id": "de2f8677",
   "metadata": {},
   "outputs": [
    {
     "name": "stdout",
     "output_type": "stream",
     "text": [
      "e n o y n a e g d u j t n o d s t h g i r n w o s t i e v a h e n o y r e v e "
     ]
    }
   ],
   "source": [
    "str1=\"everyonehaveitsownrightsdontjudgeanyone\"\n",
    "x=list(str1)\n",
    "for i in x[::-1]:\n",
    "    print(i,end=\" \")\n"
   ]
  },
  {
   "cell_type": "code",
   "execution_count": null,
   "id": "acc108e6",
   "metadata": {},
   "outputs": [],
   "source": [
    "str2=\"arshad\"\n",
    "x=list(str2)\n",
    "for i in x[2::]:\n",
    "    print(i)"
   ]
  },
  {
   "cell_type": "code",
   "execution_count": null,
   "id": "adf2d8a9",
   "metadata": {},
   "outputs": [],
   "source": [
    "a=[1,2,3,4,5,6,1]\n",
    "if a[0]==a[-1]:\n",
    "    print(\"true\")\n",
    "    \n",
    "else:\n",
    "    print(\"false\")\n",
    "          "
   ]
  },
  {
   "cell_type": "code",
   "execution_count": 6,
   "id": "14630ec7",
   "metadata": {},
   "outputs": [
    {
     "name": "stdout",
     "output_type": "stream",
     "text": [
      "5 10 20 45 "
     ]
    },
    {
     "data": {
      "text/plain": [
       "1"
      ]
     },
     "execution_count": 6,
     "metadata": {},
     "output_type": "execute_result"
    }
   ],
   "source": [
    "a=[4,5,7,10,20,45,43,12]\n",
    "for i in a:\n",
    "    if i%5==0:\n",
    "        print(i,end=\" \")\n",
    "a.count(4) "
   ]
  },
  {
   "cell_type": "code",
   "execution_count": 12,
   "id": "ef44940e",
   "metadata": {},
   "outputs": [
    {
     "data": {
      "text/plain": [
       "4"
      ]
     },
     "execution_count": 12,
     "metadata": {},
     "output_type": "execute_result"
    }
   ],
   "source": [
    "str1=\"arshad is not well ,arshad is in gar deep down in his problem,arshad want to break from everything\"\n",
    "x=str1.count(\"ar\")\n",
    "x"
   ]
  },
  {
   "cell_type": "code",
   "execution_count": null,
   "id": "3a3b2261",
   "metadata": {},
   "outputs": [],
   "source": [
    "dict1={\"arshad\":\"khan\",\"job\":\"thalwa\",\"saddam\":\"hussain\"}\n",
    "dict1.count()"
   ]
  },
  {
   "cell_type": "code",
   "execution_count": null,
   "id": "1d1eb89f",
   "metadata": {},
   "outputs": [
    {
     "name": "stdout",
     "output_type": "stream",
     "text": [
      "enter card no.45\n",
      " invalid\n",
      "enter card no.123\n",
      "valid\n",
      "enter card no.steff\n",
      "this is str\n"
     ]
    }
   ],
   "source": [
    "#employee id scanner:\n",
    "card_no=[123,124,125,126,127,128]\n",
    "while True:\n",
    "    a=input(\"enter card no.\")\n",
    "    if a.isdigit():\n",
    "        if int(a) in card_no:\n",
    "            \n",
    "            print(\"valid\")\n",
    "        else:\n",
    "            print(\" invalid\")\n",
    "    else:\n",
    "        print(\"this is str\")\n",
    "    "
   ]
  },
  {
   "cell_type": "code",
   "execution_count": 3,
   "id": "d319589f",
   "metadata": {},
   "outputs": [
    {
     "data": {
      "text/plain": [
       "False"
      ]
     },
     "execution_count": 3,
     "metadata": {},
     "output_type": "execute_result"
    }
   ],
   "source": [
    "a='tyy'\n",
    "a.isdigit()"
   ]
  },
  {
   "cell_type": "code",
   "execution_count": 20,
   "id": "b6fc328a",
   "metadata": {},
   "outputs": [
    {
     "name": "stdout",
     "output_type": "stream",
     "text": [
      "hvhrything is possiblh but lifh is difficult\n"
     ]
    }
   ],
   "source": [
    "tgt=(\"everything is possible but life is difficult\")\n",
    "#if \"dildar\" not in tgt:\n",
    "#    print(\"it is not\")\n",
    "print(tgt.replace(\"e\",\"h\"))\n"
   ]
  },
  {
   "cell_type": "code",
   "execution_count": null,
   "id": "5eac0273",
   "metadata": {},
   "outputs": [],
   "source": []
  }
 ],
 "metadata": {
  "kernelspec": {
   "display_name": "Python 3 (ipykernel)",
   "language": "python",
   "name": "python3"
  },
  "language_info": {
   "codemirror_mode": {
    "name": "ipython",
    "version": 3
   },
   "file_extension": ".py",
   "mimetype": "text/x-python",
   "name": "python",
   "nbconvert_exporter": "python",
   "pygments_lexer": "ipython3",
   "version": "3.8.10"
  }
 },
 "nbformat": 4,
 "nbformat_minor": 5
}
