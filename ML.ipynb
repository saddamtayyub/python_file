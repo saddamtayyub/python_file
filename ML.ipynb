{
 "cells": [
  {
   "cell_type": "code",
   "execution_count": 30,
   "id": "d987f263",
   "metadata": {},
   "outputs": [],
   "source": [
    "datas=[\n",
    "    {\n",
    "        'name':'saddam',\n",
    "        'roll':'11'\n",
    "    },\n",
    "    {\n",
    "        'name':'sahzad',\n",
    "        'roll':'15'\n",
    "    },\n",
    "    {\n",
    "        'name':'sahil',\n",
    "        'roll':'12'\n",
    "    }\n",
    "]"
   ]
  },
  {
   "cell_type": "code",
   "execution_count": 29,
   "id": "3a796cb1",
   "metadata": {},
   "outputs": [
    {
     "name": "stdout",
     "output_type": "stream",
     "text": [
      "True\n",
      "False\n",
      "False\n"
     ]
    }
   ],
   "source": [
    "for i in range(len(datas)):\n",
    "    print(datas[i]['name']==\"saddam\")"
   ]
  },
  {
   "cell_type": "code",
   "execution_count": 18,
   "id": "ed91fab8",
   "metadata": {},
   "outputs": [
    {
     "data": {
      "text/plain": [
       "[{'name': 'sahzad', 'roll': '15'}, {'name': 'sahil', 'roll': '12'}]"
      ]
     },
     "execution_count": 18,
     "metadata": {},
     "output_type": "execute_result"
    }
   ],
   "source": [
    "datas"
   ]
  },
  {
   "cell_type": "code",
   "execution_count": 31,
   "id": "f15b0769",
   "metadata": {},
   "outputs": [],
   "source": [
    "name=\"saddam\"\n",
    "for i in range(len(datas)):\n",
    "    if datas[i]['name'] == name:\n",
    "        del datas[i]\n",
    "        break"
   ]
  },
  {
   "cell_type": "code",
   "execution_count": 32,
   "id": "a56726e5",
   "metadata": {},
   "outputs": [
    {
     "data": {
      "text/plain": [
       "[{'name': 'sahzad', 'roll': '15'}, {'name': 'sahil', 'roll': '12'}]"
      ]
     },
     "execution_count": 32,
     "metadata": {},
     "output_type": "execute_result"
    }
   ],
   "source": [
    "datas"
   ]
  },
  {
   "cell_type": "code",
   "execution_count": 62,
   "id": "b6a10357",
   "metadata": {},
   "outputs": [
    {
     "name": "stdout",
     "output_type": "stream",
     "text": [
      "Hello, World!\n"
     ]
    }
   ],
   "source": [
    "a = \" Hello, World!    \"\n",
    "print(a.strip())"
   ]
  },
  {
   "cell_type": "code",
   "execution_count": 68,
   "id": "37122820",
   "metadata": {},
   "outputs": [
    {
     "name": "stdout",
     "output_type": "stream",
     "text": [
      "apple\n",
      "banana\n",
      "cherry\n"
     ]
    },
    {
     "data": {
      "text/plain": [
       "[None, None, None]"
      ]
     },
     "execution_count": 68,
     "metadata": {},
     "output_type": "execute_result"
    }
   ],
   "source": [
    "thislist = [\"apple\", \"banana\", \"cherry\"]\n",
    "[print(x) for x in thislist]"
   ]
  },
  {
   "cell_type": "code",
   "execution_count": 73,
   "id": "c7fa1a4b",
   "metadata": {},
   "outputs": [
    {
     "name": "stdout",
     "output_type": "stream",
     "text": [
      "[4, 6, 14]\n"
     ]
    }
   ],
   "source": [
    "fruits = [4,3,5,6,14]\n",
    "\n",
    "newlist = [x for x in fruits if x%2==0 ]\n",
    "\n",
    "print(newlist)\n"
   ]
  },
  {
   "cell_type": "code",
   "execution_count": 3,
   "id": "66e7f854",
   "metadata": {},
   "outputs": [],
   "source": [
    "f= [4,3,5,6,14]\n",
    "f.insert(2,\"saddam\")"
   ]
  },
  {
   "cell_type": "code",
   "execution_count": 20,
   "id": "ec34c4ce",
   "metadata": {},
   "outputs": [
    {
     "data": {
      "text/plain": [
       "[4, 3, 'saddam', 5, 6, 14]"
      ]
     },
     "execution_count": 20,
     "metadata": {},
     "output_type": "execute_result"
    }
   ],
   "source": [
    "f"
   ]
  },
  {
   "cell_type": "code",
   "execution_count": null,
   "id": "23142b40",
   "metadata": {},
   "outputs": [],
   "source": []
  },
  {
   "cell_type": "code",
   "execution_count": null,
   "id": "553cb171",
   "metadata": {},
   "outputs": [],
   "source": []
  }
 ],
 "metadata": {
  "kernelspec": {
   "display_name": "Python 3 (ipykernel)",
   "language": "python",
   "name": "python3"
  },
  "language_info": {
   "codemirror_mode": {
    "name": "ipython",
    "version": 3
   },
   "file_extension": ".py",
   "mimetype": "text/x-python",
   "name": "python",
   "nbconvert_exporter": "python",
   "pygments_lexer": "ipython3",
   "version": "3.8.10"
  }
 },
 "nbformat": 4,
 "nbformat_minor": 5
}
