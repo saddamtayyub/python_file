{
 "cells": [
  {
   "cell_type": "code",
   "execution_count": null,
   "id": "cc85a205",
   "metadata": {},
   "outputs": [],
   "source": [
    "x=2 \n",
    "for i in range(x**2,x,-1): \n",
    "    print(x)\n",
    "    \n",
    "lst1 = [1,2,4,5,6,3,\"a\",\"b\",\"c\", 3j+1, 'axy',True,False,5]\n",
    "\n",
    "print(set(lst1))\n",
    "\n",
    "for i in range(1,8): \n",
    "    print(i) \n",
    "    i+=2\n",
    "\n",
    "# 1\n",
    "# 3\n",
    "# 5\n",
    "# 7\n",
    "print(5*2,'5'*2)\n",
    "\n",
    "# 10 55\n",
    "\n",
    "weekdays = ['sun','mon','tue','wed','thu','fri','sat']\n",
    "\n",
    "\n",
    "{\n",
    "\"name\": \"test\",\n",
    "\"id\":\"cb7fb72c-9b16-4507-9a2e-d8ed9219b88a\",\n",
    "\"category\": \"blue\",\n",
    "\"req\":[\"e2955b050713\", \"f3sedb\"],\n",
    "\"response\":[{\"x\":\"e2955b050713\", \"y\":1000},]\n",
    "\n",
    "}\n",
    "\n",
    "choices = [\n",
    "    ('blue', 'blue'),\n",
    "    ('red', 'red')\n",
    "    ]\n",
    "from django.model.postgres import ArrayField\n",
    "\n",
    "class Product(models.Model):\n",
    "    name = models.CharField(max_length=100)\n",
    "    id = models.CharField(max_length=255)\n",
    "    category = models.CharField(max_length=20, choice=choices)\n",
    "    req = ArrayField(null=True)\n",
    "    response = ArrayField(null=True)\n",
    "    \n",
    "    \n",
    "import requests    \n",
    "url = http://dummy.restapiexample.com/api/v1/employees\n",
    "\n",
    "\n",
    "r = requests.get(url, {}, header)\n",
    "r.status_code()\n",
    "print(r.json())\n"
   ]
  },
  {
   "cell_type": "code",
   "execution_count": 1,
   "id": "636ba46c",
   "metadata": {},
   "outputs": [
    {
     "name": "stdout",
     "output_type": "stream",
     "text": [
      "2\n",
      "2\n"
     ]
    }
   ],
   "source": [
    "x=2 \n",
    "for i in range(x**2,x,-1): \n",
    "    print(x)"
   ]
  },
  {
   "cell_type": "code",
   "execution_count": 5,
   "id": "778f92e8",
   "metadata": {},
   "outputs": [
    {
     "name": "stdout",
     "output_type": "stream",
     "text": [
      "{'axy', 1, 2, 3, 4, 5, 6, 'b', 'c', False, (1+3j), 'a'}\n"
     ]
    }
   ],
   "source": [
    "   \n",
    "lst1 = [1,2,4,5,6,3,\"a\",\"b\",\"c\", 3j+1, 'axy',True,False,5]\n",
    "\n",
    "print(set(lst1))"
   ]
  },
  {
   "cell_type": "code",
   "execution_count": 6,
   "id": "badd1678",
   "metadata": {},
   "outputs": [
    {
     "name": "stdout",
     "output_type": "stream",
     "text": [
      "1\n",
      "2\n",
      "3\n",
      "4\n",
      "5\n",
      "6\n",
      "7\n"
     ]
    }
   ],
   "source": [
    "\n",
    "for i in range(1,8): \n",
    "    print(i) \n",
    "    i+=2"
   ]
  },
  {
   "cell_type": "code",
   "execution_count": null,
   "id": "a3cad4b0",
   "metadata": {},
   "outputs": [],
   "source": []
  }
 ],
 "metadata": {
  "kernelspec": {
   "display_name": "Python 3 (ipykernel)",
   "language": "python",
   "name": "python3"
  },
  "language_info": {
   "codemirror_mode": {
    "name": "ipython",
    "version": 3
   },
   "file_extension": ".py",
   "mimetype": "text/x-python",
   "name": "python",
   "nbconvert_exporter": "python",
   "pygments_lexer": "ipython3",
   "version": "3.8.10"
  }
 },
 "nbformat": 4,
 "nbformat_minor": 5
}
