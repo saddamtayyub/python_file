{
 "cells": [
  {
   "cell_type": "code",
   "execution_count": null,
   "id": "ae2f9450",
   "metadata": {},
   "outputs": [],
   "source": []
  },
  {
   "cell_type": "code",
   "execution_count": null,
   "id": "d33534a2",
   "metadata": {},
   "outputs": [],
   "source": [
    "from Selenium import webdriver  \n",
    "import time  \n",
    "from Selenium.webdriver.common.keys import Keys  \n",
    "print(\"test case started\")  \n",
    "#open Google Chrome browser  \n",
    "driver = webdriver.Chrome()  \n",
    "#maximize the window size  \n",
    "driver.maximize_window()  \n",
    "#delete the cookies  \n",
    "driver.delete_all_cookies()  \n",
    "#navigate to the url  \n",
    "driver.get(\"https://www.gmail.com\")  \n",
    "#identify the user name text box and enter the value  \n",
    "driver.find_element_by_id(\"identifierId\").send_keys(\"xyz11@gmail.com\")  \n",
    "time.sleep(2)  \n",
    "#click on the next button  \n",
    "driver.find_element_by_xpath(\"//span[@class='RveJvd snByac'][1]\").click()  \n",
    "time.sleep(3)  \n",
    "#identify the password text box and enter the value   \n",
    "driver.find_element_by_name(\"password\").send_keys(\"#########\")  \n",
    "time.sleep(3)  \n",
    "#click on the next button  \n",
    "driver.find_element_by_xpath(\"//span[contains(text(),'Next')][1]\").click()  \n",
    "time.sleep(3)  \n",
    "#close the browser  \n",
    "driver.close()  \n",
    "print(\"Gmail login has been successfully completed\")  \n",
    "\n",
    "#Note: In the above code, use your Gmail id at place: xyz11@gmail.com and password: "
   ]
  },
  {
   "cell_type": "code",
   "execution_count": null,
   "id": "0d8f460c",
   "metadata": {},
   "outputs": [],
   "source": []
  },
  {
   "cell_type": "code",
   "execution_count": null,
   "id": "ebc46cf2",
   "metadata": {},
   "outputs": [],
   "source": []
  }
 ],
 "metadata": {
  "kernelspec": {
   "display_name": "Python 3 (ipykernel)",
   "language": "python",
   "name": "python3"
  },
  "language_info": {
   "codemirror_mode": {
    "name": "ipython",
    "version": 3
   },
   "file_extension": ".py",
   "mimetype": "text/x-python",
   "name": "python",
   "nbconvert_exporter": "python",
   "pygments_lexer": "ipython3",
   "version": "3.8.10"
  }
 },
 "nbformat": 4,
 "nbformat_minor": 5
}
