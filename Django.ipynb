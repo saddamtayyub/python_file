{
 "cells": [
  {
   "cell_type": "code",
   "execution_count": null,
   "id": "0b0d1148",
   "metadata": {},
   "outputs": [],
   "source": [
    "# install enviroment\n",
    "sudo apt-get install virtualenv\n",
    "# create an folder\n",
    "mkdir myfolder\n",
    "cd myfolder\n",
    "#create envirments\n",
    "python3 -m venv envname\n",
    "\n",
    "#activate env\n",
    "source myenv/bin/activate"
   ]
  },
  {
   "cell_type": "code",
   "execution_count": 1,
   "id": "d84625e8",
   "metadata": {},
   "outputs": [],
   "source": [
    "   # install django      \n",
    "python3 -m pip install Django\n",
    "   #restapi  \n",
    "ducumentation https://www.geekyshows.com/2020/11/django-rest-framework-study-material.html\n",
    "# insatll rest_farmework (DRF)\n",
    "pip install djangoresframework "
   ]
  },
  {
   "cell_type": "code",
   "execution_count": null,
   "id": "681c125e",
   "metadata": {},
   "outputs": [],
   "source": [
    "   # create project \n",
    "django-admin startproject myproject\n",
    "\n",
    "# then go to cd myproject"
   ]
  },
  {
   "cell_type": "code",
   "execution_count": null,
   "id": "4bf2963e",
   "metadata": {},
   "outputs": [],
   "source": [
    "  # create app\n",
    "python manage.py startapp myapp"
   ]
  },
  {
   "cell_type": "code",
   "execution_count": null,
   "id": "922a9972",
   "metadata": {},
   "outputs": [],
   "source": [
    "# run server\n",
    "python manage.py runserver"
   ]
  },
  {
   "cell_type": "code",
   "execution_count": null,
   "id": "6031fe16",
   "metadata": {},
   "outputs": [],
   "source": [
    "# create super user\n",
    "python manage.py createsuperuser"
   ]
  },
  {
   "cell_type": "code",
   "execution_count": null,
   "id": "d1448cc3",
   "metadata": {},
   "outputs": [],
   "source": [
    "            #setting.py file\n",
    "# 1.install app, restframwork\n",
    "INSTALLED_APPS = [\n",
    "    'django.contrib.admin',\n",
    "    'django.contrib.auth',\n",
    "    'django.contrib.contenttypes',\n",
    "    'django.contrib.sessions',\n",
    "    'django.contrib.messages',\n",
    "    'django.contrib.staticfiles',\n",
    "    'rest_framework',\n",
    "    'myapp',\n",
    "]"
   ]
  },
  {
   "cell_type": "code",
   "execution_count": null,
   "id": "9c4a9234",
   "metadata": {},
   "outputs": [],
   "source": [
    "          #model.py file\n",
    "#2. create model in \n",
    "from django.db import models\n",
    "\n",
    "# Create your models here.\n",
    "class employee(models.Model):\n",
    "    name=models.CharField(max_length=20)\n",
    "    lastname=models.CharField(max_length=30)\n",
    "    email=models.EmailField()\n",
    "    emid=models.IntegerField()\n",
    "\n",
    "    def __str__(self):\n",
    "        return self.name\n",
    "# now we have to regiter our model in admin.py file\n",
    "#first import model than ragister"
   ]
  },
  {
   "cell_type": "code",
   "execution_count": null,
   "id": "ff096966",
   "metadata": {},
   "outputs": [],
   "source": [
    "    # admin.py\n",
    "#3.Register your models here.    \n",
    "from django.contrib import admin\n",
    "# import moadel here than register\n",
    "from .models import employee\n",
    "\n",
    "# Register your models here.\n",
    "admin.site.register(employee)\n",
    "\n",
    "# run the commond = python manage.py makemigrations\n",
    "# python manage.py migrate \n",
    "# python manage.py createsuperuser"
   ]
  },
  {
   "cell_type": "markdown",
   "id": "36c71e68",
   "metadata": {},
   "source": [
    " # model serializers "
   ]
  },
  {
   "cell_type": "code",
   "execution_count": null,
   "id": "4553f97c",
   "metadata": {},
   "outputs": [],
   "source": [
    "    # serializers.py file in app\n",
    "#4. create  model serializers  \n",
    "from rest_framework import serializers\n",
    "#from rest_framework import employee\n",
    "from .models import employee\n",
    "\n",
    "# Serializers define the API representation.\n",
    "class employeeSerializer(serializers.ModelSerializer):\n",
    "    class Meta:\n",
    "        model = employee\n",
    "        #fields = ['name', 'lastname', 'email','emid']\n",
    "\n",
    "        fields= '__all__'"
   ]
  },
  {
   "cell_type": "markdown",
   "id": "e0467f31",
   "metadata": {},
   "source": [
    " # simple serializers "
   ]
  },
  {
   "cell_type": "code",
   "execution_count": null,
   "id": "45fe437b",
   "metadata": {},
   "outputs": [],
   "source": [
    "# serializers.py file in app\n",
    "from rest_framework import serializers\n",
    "class employeeSerializer(serializers.Serializer):\n",
    "    name=Serializer.CharField(max_length=20)\n",
    "    lastname=Serializer.CharField(max_length=30)\n",
    "    email=Serializer.EmailField()\n",
    "    emid=Serializer.IntegerField()\n",
    "    \n",
    "    \n",
    "    "
   ]
  },
  {
   "cell_type": "code",
   "execution_count": null,
   "id": "c40b068d",
   "metadata": {},
   "outputs": [],
   "source": [
    "# function base view\n",
    "from django.shortcuts import render\n",
    "from django.http import HttpResponse\n",
    "from rest_framework import serializers\n",
    "from .models import employee\n",
    "from .serializers import employeeSerializer\n",
    "from resframework.renedrers import JSONrenedrers\n",
    "# model object single employee data\n",
    "def empdetail(request):\n",
    "    emp1=employee.objects.get(id=1)\n",
    "    serilizer=employeeSerializer(emp1)\n",
    "    jasondata=JSONrenedrers().enedrers(serilizer.data)\n",
    "    return HttpResponse(jasondata, content_type='application/json')\n",
    "    \n",
    "# model object all employee data   set Query\n",
    "def empdetail(request):\n",
    "    emp1=employee.objects.all()\n",
    "    serilizer=employeeSerializer(emp1,many=True)\n",
    "    return Response(serilizer.data)\n",
    "    #jasondata=JSONrenedrers().enedrers(serilizer.data)\n",
    "    #return HttpResponse(jasondata, content_type='application/json')\n",
    "    \n",
    "    "
   ]
  },
  {
   "cell_type": "code",
   "execution_count": null,
   "id": "bc1844d7",
   "metadata": {},
   "outputs": [],
   "source": [
    "   # views.py file\n",
    "#5. create classbase view our views here\n",
    "from django.shortcuts import render\n",
    "from django.http import HttpResponse\n",
    "from django.shortcuts import get_list_or_404\n",
    "from rest_framework.views import APIView\n",
    "from rest_framework.response import Response\n",
    "from rest_framework import serializers, status\n",
    "from .models import employee\n",
    "from .serializers import employeeSerializer\n",
    "# Create your views here.\n",
    "class employeeList(APIView):\n",
    "\n",
    "    def get(self,response):\n",
    "        emp1=employee.objects.all()\n",
    "        serilizer=employeeSerializer(emp1,many=True)\n",
    "        return Response(serilizer.data)\n",
    "\n",
    "    def post():\n",
    "        pass"
   ]
  },
  {
   "cell_type": "code",
   "execution_count": null,
   "id": "d3556428",
   "metadata": {},
   "outputs": [],
   "source": [
    "#urls.py file\n",
    "#6 create urls here\n",
    "from django.contrib import admin\n",
    "from django.urls import path\n",
    "# import some \n",
    "from rest_framework.urlpatterns import format_suffix_patterns\n",
    "from myapp import views\n",
    "\n",
    "urlpatterns = [\n",
    "    path('admin/', admin.site.urls),\n",
    "    #path('',views.empdetail)        functin base \n",
    "    path('employee/',views.employeeList.as_view()),\n",
    "\n",
    "]"
   ]
  },
  {
   "cell_type": "code",
   "execution_count": null,
   "id": "9ed99b2b",
   "metadata": {},
   "outputs": [],
   "source": []
  },
  {
   "cell_type": "code",
   "execution_count": null,
   "id": "b5f59e8c",
   "metadata": {},
   "outputs": [],
   "source": []
  }
 ],
 "metadata": {
  "kernelspec": {
   "display_name": "Python 3 (ipykernel)",
   "language": "python",
   "name": "python3"
  },
  "language_info": {
   "codemirror_mode": {
    "name": "ipython",
    "version": 3
   },
   "file_extension": ".py",
   "mimetype": "text/x-python",
   "name": "python",
   "nbconvert_exporter": "python",
   "pygments_lexer": "ipython3",
   "version": "3.8.10"
  }
 },
 "nbformat": 4,
 "nbformat_minor": 5
}
