{
 "cells": [
  {
   "cell_type": "code",
   "execution_count": 5,
   "id": "ae32dd24",
   "metadata": {},
   "outputs": [
    {
     "name": "stdout",
     "output_type": "stream",
     "text": [
      "{'cars': 'BMW', 'passings': 3}\n"
     ]
    },
    {
     "data": {
      "text/html": [
       "<div>\n",
       "<style scoped>\n",
       "    .dataframe tbody tr th:only-of-type {\n",
       "        vertical-align: middle;\n",
       "    }\n",
       "\n",
       "    .dataframe tbody tr th {\n",
       "        vertical-align: top;\n",
       "    }\n",
       "\n",
       "    .dataframe thead th {\n",
       "        text-align: right;\n",
       "    }\n",
       "</style>\n",
       "<table border=\"1\" class=\"dataframe\">\n",
       "  <thead>\n",
       "    <tr style=\"text-align: right;\">\n",
       "      <th></th>\n",
       "      <th>setdata</th>\n",
       "    </tr>\n",
       "  </thead>\n",
       "  <tbody>\n",
       "    <tr>\n",
       "      <th>cars</th>\n",
       "      <td>BMW</td>\n",
       "    </tr>\n",
       "    <tr>\n",
       "      <th>passings</th>\n",
       "      <td>3</td>\n",
       "    </tr>\n",
       "  </tbody>\n",
       "</table>\n",
       "</div>"
      ],
      "text/plain": [
       "         setdata\n",
       "cars         BMW\n",
       "passings       3"
      ]
     },
     "execution_count": 5,
     "metadata": {},
     "output_type": "execute_result"
    }
   ],
   "source": [
    "import pandas as pd\n",
    "\n",
    "mydataset = {\n",
    "  'cars': \"BMW\",\n",
    "  'passings': 3,\n",
    "}\n",
    "\n",
    "print(mydataset)\n",
    "myvar = pd.DataFrame({\"setdata\":mydataset})\n",
    "myvar"
   ]
  },
  {
   "cell_type": "code",
   "execution_count": null,
   "id": "b94b75aa",
   "metadata": {},
   "outputs": [],
   "source": []
  },
  {
   "cell_type": "code",
   "execution_count": null,
   "id": "5103acc8",
   "metadata": {},
   "outputs": [],
   "source": []
  },
  {
   "cell_type": "code",
   "execution_count": 6,
   "id": "e4abae5d",
   "metadata": {},
   "outputs": [
    {
     "name": "stdout",
     "output_type": "stream",
     "text": [
      "'access key for github saddam'  \u001b[0m\u001b[01;36m\"PlayOnLinux's virtual drives\"\u001b[0m@\r\n",
      "'all method django.ipynb'        \u001b[01;34mPublic\u001b[0m/\r\n",
      " \u001b[01;34mDesktop\u001b[0m/                        \u001b[01;34mPython-3.9.6\u001b[0m/\r\n",
      " Django.ipynb                   'scrap data.ipynb'\r\n",
      " \u001b[01;34mDocuments\u001b[0m/                      \u001b[01;34mTemplates\u001b[0m/\r\n",
      " \u001b[01;34mDownloads\u001b[0m/                      Untitled1.ipynb\r\n",
      " json.ipynb                      Untitled.ipynb\r\n",
      " ML.ipynb                        \u001b[01;34mVideos\u001b[0m/\r\n",
      " \u001b[01;34mMusic\u001b[0m/                         'whatsapp Automation.ipynb'\r\n",
      " \u001b[01;34mPictures\u001b[0m/\r\n"
     ]
    }
   ],
   "source": [
    "ls"
   ]
  },
  {
   "cell_type": "code",
   "execution_count": 30,
   "id": "c8dd7932",
   "metadata": {},
   "outputs": [],
   "source": [
    "import os\n",
    "path=os.getcwd()\n",
    "\n"
   ]
  },
  {
   "cell_type": "code",
   "execution_count": 17,
   "id": "0d3ab789",
   "metadata": {},
   "outputs": [
    {
     "name": "stdout",
     "output_type": "stream",
     "text": [
      "/home/saddam/Desktop\n"
     ]
    }
   ],
   "source": [
    "cd Desktop"
   ]
  },
  {
   "cell_type": "code",
   "execution_count": 32,
   "id": "212a44f8",
   "metadata": {},
   "outputs": [
    {
     "data": {
      "text/plain": [
       "'/home/saddam/Desktop/data.csv'"
      ]
     },
     "execution_count": 32,
     "metadata": {},
     "output_type": "execute_result"
    }
   ],
   "source": [
    "os.path.join(path, 'data.csv')"
   ]
  },
  {
   "cell_type": "code",
   "execution_count": 20,
   "id": "54f5c2e4",
   "metadata": {},
   "outputs": [
    {
     "name": "stdout",
     "output_type": "stream",
     "text": [
      "            Patient prescription\n",
      "date                  sadddddwfa\n",
      "dep                      asdadfc\n",
      "description              sdfgdrf\n",
      "name                      saddam\n",
      "time                      wedfad\n"
     ]
    },
    {
     "data": {
      "text/html": [
       "<div>\n",
       "<style scoped>\n",
       "    .dataframe tbody tr th:only-of-type {\n",
       "        vertical-align: middle;\n",
       "    }\n",
       "\n",
       "    .dataframe tbody tr th {\n",
       "        vertical-align: top;\n",
       "    }\n",
       "\n",
       "    .dataframe thead th {\n",
       "        text-align: right;\n",
       "    }\n",
       "</style>\n",
       "<table border=\"1\" class=\"dataframe\">\n",
       "  <thead>\n",
       "    <tr style=\"text-align: right;\">\n",
       "      <th></th>\n",
       "      <th>Patient prescription</th>\n",
       "    </tr>\n",
       "  </thead>\n",
       "  <tbody>\n",
       "    <tr>\n",
       "      <th>date</th>\n",
       "      <td>sadddddwfa</td>\n",
       "    </tr>\n",
       "    <tr>\n",
       "      <th>dep</th>\n",
       "      <td>asdadfc</td>\n",
       "    </tr>\n",
       "    <tr>\n",
       "      <th>description</th>\n",
       "      <td>sdfgdrf</td>\n",
       "    </tr>\n",
       "    <tr>\n",
       "      <th>name</th>\n",
       "      <td>saddam</td>\n",
       "    </tr>\n",
       "    <tr>\n",
       "      <th>time</th>\n",
       "      <td>wedfad</td>\n",
       "    </tr>\n",
       "  </tbody>\n",
       "</table>\n",
       "</div>"
      ],
      "text/plain": [
       "            Patient prescription\n",
       "date                  sadddddwfa\n",
       "dep                      asdadfc\n",
       "description              sdfgdrf\n",
       "name                      saddam\n",
       "time                      wedfad"
      ]
     },
     "execution_count": 20,
     "metadata": {},
     "output_type": "execute_result"
    }
   ],
   "source": [
    "dict_data={\n",
    "        'name':'saddam',\n",
    "        'dep':'asdadfc',\n",
    "        'description':'sdfgdrf',\n",
    "        'date':'sadddddwfa',\n",
    "        'time':'wedfad',\n",
    "    }\n",
    "\n",
    "# convert data to csv\n",
    "path='home\\saddam\\Desktop'\n",
    "\n",
    "dataframe=pd.DataFrame({\"Patient prescription\":dict_data})\n",
    "print(dataframe)\n",
    "# \n",
    "dataframe"
   ]
  },
  {
   "cell_type": "code",
   "execution_count": 56,
   "id": "674aeb02",
   "metadata": {},
   "outputs": [
    {
     "data": {
      "text/plain": [
       "'/home/saddam/Desktop'"
      ]
     },
     "execution_count": 56,
     "metadata": {},
     "output_type": "execute_result"
    }
   ],
   "source": [
    "pwd"
   ]
  },
  {
   "cell_type": "code",
   "execution_count": 37,
   "id": "3cbd7c1b",
   "metadata": {},
   "outputs": [],
   "source": [
    "name=\"s\""
   ]
  },
  {
   "cell_type": "code",
   "execution_count": 51,
   "id": "df46e647",
   "metadata": {},
   "outputs": [],
   "source": [
    "dataframe.to_csv('data.csv',header=True)"
   ]
  },
  {
   "cell_type": "code",
   "execution_count": 55,
   "id": "60e4fb05",
   "metadata": {},
   "outputs": [
    {
     "ename": "Error",
     "evalue": "Cannot move a directory '/home/saddam/Desktop' into itself 'home/saddam/Desktop/hms/hospital_management_system/hospital/static/csv'.",
     "output_type": "error",
     "traceback": [
      "\u001b[0;31m---------------------------------------------------------------------------\u001b[0m",
      "\u001b[0;31mFileNotFoundError\u001b[0m                         Traceback (most recent call last)",
      "\u001b[0;32m/usr/lib/python3.8/shutil.py\u001b[0m in \u001b[0;36mmove\u001b[0;34m(src, dst, copy_function)\u001b[0m\n\u001b[1;32m    790\u001b[0m     \u001b[0;32mtry\u001b[0m\u001b[0;34m:\u001b[0m\u001b[0;34m\u001b[0m\u001b[0;34m\u001b[0m\u001b[0m\n\u001b[0;32m--> 791\u001b[0;31m         \u001b[0mos\u001b[0m\u001b[0;34m.\u001b[0m\u001b[0mrename\u001b[0m\u001b[0;34m(\u001b[0m\u001b[0msrc\u001b[0m\u001b[0;34m,\u001b[0m \u001b[0mreal_dst\u001b[0m\u001b[0;34m)\u001b[0m\u001b[0;34m\u001b[0m\u001b[0;34m\u001b[0m\u001b[0m\n\u001b[0m\u001b[1;32m    792\u001b[0m     \u001b[0;32mexcept\u001b[0m \u001b[0mOSError\u001b[0m\u001b[0;34m:\u001b[0m\u001b[0;34m\u001b[0m\u001b[0;34m\u001b[0m\u001b[0m\n",
      "\u001b[0;31mFileNotFoundError\u001b[0m: [Errno 2] No such file or directory: '/home/saddam/Desktop' -> 'home/saddam/Desktop/hms/hospital_management_system/hospital/static/csv'",
      "\nDuring handling of the above exception, another exception occurred:\n",
      "\u001b[0;31mError\u001b[0m                                     Traceback (most recent call last)",
      "\u001b[0;32m/tmp/ipykernel_18388/1718262294.py\u001b[0m in \u001b[0;36m<module>\u001b[0;34m\u001b[0m\n\u001b[1;32m      7\u001b[0m \u001b[0;31m# Move the content of\u001b[0m\u001b[0;34m\u001b[0m\u001b[0;34m\u001b[0m\u001b[0;34m\u001b[0m\u001b[0m\n\u001b[1;32m      8\u001b[0m \u001b[0;31m# source to destination\u001b[0m\u001b[0;34m\u001b[0m\u001b[0;34m\u001b[0m\u001b[0;34m\u001b[0m\u001b[0m\n\u001b[0;32m----> 9\u001b[0;31m \u001b[0mdest\u001b[0m \u001b[0;34m=\u001b[0m \u001b[0mshutil\u001b[0m\u001b[0;34m.\u001b[0m\u001b[0mmove\u001b[0m\u001b[0;34m(\u001b[0m\u001b[0msource\u001b[0m\u001b[0;34m,\u001b[0m \u001b[0mdestination\u001b[0m\u001b[0;34m)\u001b[0m\u001b[0;34m\u001b[0m\u001b[0;34m\u001b[0m\u001b[0m\n\u001b[0m\u001b[1;32m     10\u001b[0m \u001b[0mprint\u001b[0m\u001b[0;34m(\u001b[0m\u001b[0mdest\u001b[0m\u001b[0;34m)\u001b[0m\u001b[0;34m\u001b[0m\u001b[0;34m\u001b[0m\u001b[0m\n",
      "\u001b[0;32m/usr/lib/python3.8/shutil.py\u001b[0m in \u001b[0;36mmove\u001b[0;34m(src, dst, copy_function)\u001b[0m\n\u001b[1;32m    797\u001b[0m         \u001b[0;32melif\u001b[0m \u001b[0mos\u001b[0m\u001b[0;34m.\u001b[0m\u001b[0mpath\u001b[0m\u001b[0;34m.\u001b[0m\u001b[0misdir\u001b[0m\u001b[0;34m(\u001b[0m\u001b[0msrc\u001b[0m\u001b[0;34m)\u001b[0m\u001b[0;34m:\u001b[0m\u001b[0;34m\u001b[0m\u001b[0;34m\u001b[0m\u001b[0m\n\u001b[1;32m    798\u001b[0m             \u001b[0;32mif\u001b[0m \u001b[0m_destinsrc\u001b[0m\u001b[0;34m(\u001b[0m\u001b[0msrc\u001b[0m\u001b[0;34m,\u001b[0m \u001b[0mdst\u001b[0m\u001b[0;34m)\u001b[0m\u001b[0;34m:\u001b[0m\u001b[0;34m\u001b[0m\u001b[0;34m\u001b[0m\u001b[0m\n\u001b[0;32m--> 799\u001b[0;31m                 raise Error(\"Cannot move a directory '%s' into itself\"\n\u001b[0m\u001b[1;32m    800\u001b[0m                             \" '%s'.\" % (src, dst))\n\u001b[1;32m    801\u001b[0m             if (_is_immutable(src)\n",
      "\u001b[0;31mError\u001b[0m: Cannot move a directory '/home/saddam/Desktop' into itself 'home/saddam/Desktop/hms/hospital_management_system/hospital/static/csv'."
     ]
    }
   ],
   "source": [
    "import shutil\n",
    "source = '/home/saddam/Desktop'\n",
    "  \n",
    "# Destination path \n",
    "destination = 'home/saddam/Desktop/hms/hospital_management_system/hospital/static/csv'\n",
    "  \n",
    "# Move the content of \n",
    "# source to destination \n",
    "dest = shutil.move(source, destination) \n",
    "print(dest)"
   ]
  },
  {
   "cell_type": "code",
   "execution_count": 14,
   "id": "9aa433db",
   "metadata": {},
   "outputs": [
    {
     "name": "stdout",
     "output_type": "stream",
     "text": [
      "  name dep\n",
      "0    s   a\n",
      "1    c   b\n"
     ]
    }
   ],
   "source": [
    "name=['s','c']\n",
    "dep=['a','b']\n",
    "dict_data={\n",
    "        'name':name,\n",
    "        'dep':dep,\n",
    "        \n",
    "    }\n",
    "\n",
    "#print(\"data\",dict_data)\n",
    "import pandas as pd    \n",
    "    \n",
    "dataframe=pd.DataFrame(dict_data)\n",
    "print(dataframe)\n",
    "#dataframe.to_csv(\"data.csv\")"
   ]
  },
  {
   "cell_type": "code",
   "execution_count": null,
   "id": "b736c0c4",
   "metadata": {},
   "outputs": [],
   "source": []
  },
  {
   "cell_type": "code",
   "execution_count": 9,
   "id": "f4414df3",
   "metadata": {},
   "outputs": [
    {
     "data": {
      "text/plain": [
       "<coroutine object main at 0x7fcb081f6940>"
      ]
     },
     "execution_count": 9,
     "metadata": {},
     "output_type": "execute_result"
    }
   ],
   "source": [
    "import asyncio\n",
    "\n",
    "async def main():\n",
    "    print(\"Hello ...\")\n",
    "    await asyncio.sleep(1)     \n",
    "    print(\"World!\")\n",
    "\n",
    "routine = main()\n",
    "routine"
   ]
  },
  {
   "cell_type": "code",
   "execution_count": 10,
   "id": "6ba4b017",
   "metadata": {},
   "outputs": [
    {
     "ename": "RuntimeError",
     "evalue": "asyncio.run() cannot be called from a running event loop",
     "output_type": "error",
     "traceback": [
      "\u001b[0;31m---------------------------------------------------------------------------\u001b[0m",
      "\u001b[0;31mRuntimeError\u001b[0m                              Traceback (most recent call last)",
      "\u001b[0;32m/tmp/ipykernel_20134/1758593717.py\u001b[0m in \u001b[0;36m<module>\u001b[0;34m\u001b[0m\n\u001b[0;32m----> 1\u001b[0;31m \u001b[0masyncio\u001b[0m\u001b[0;34m.\u001b[0m\u001b[0mrun\u001b[0m\u001b[0;34m(\u001b[0m\u001b[0mroutine\u001b[0m\u001b[0;34m)\u001b[0m\u001b[0;34m\u001b[0m\u001b[0;34m\u001b[0m\u001b[0m\n\u001b[0m",
      "\u001b[0;32m/usr/lib/python3.8/asyncio/runners.py\u001b[0m in \u001b[0;36mrun\u001b[0;34m(main, debug)\u001b[0m\n\u001b[1;32m     31\u001b[0m     \"\"\"\n\u001b[1;32m     32\u001b[0m     \u001b[0;32mif\u001b[0m \u001b[0mevents\u001b[0m\u001b[0;34m.\u001b[0m\u001b[0m_get_running_loop\u001b[0m\u001b[0;34m(\u001b[0m\u001b[0;34m)\u001b[0m \u001b[0;32mis\u001b[0m \u001b[0;32mnot\u001b[0m \u001b[0;32mNone\u001b[0m\u001b[0;34m:\u001b[0m\u001b[0;34m\u001b[0m\u001b[0;34m\u001b[0m\u001b[0m\n\u001b[0;32m---> 33\u001b[0;31m         raise RuntimeError(\n\u001b[0m\u001b[1;32m     34\u001b[0m             \"asyncio.run() cannot be called from a running event loop\")\n\u001b[1;32m     35\u001b[0m \u001b[0;34m\u001b[0m\u001b[0m\n",
      "\u001b[0;31mRuntimeError\u001b[0m: asyncio.run() cannot be called from a running event loop"
     ]
    }
   ],
   "source": [
    "asyncio.run(routine)"
   ]
  },
  {
   "cell_type": "code",
   "execution_count": 24,
   "id": "9526b32e",
   "metadata": {},
   "outputs": [],
   "source": [
    "# import asyncio\n",
    "\n",
    "# async def main():\n",
    "#     print('Hello ...')\n",
    "#     await asyncio.sleep(1)\n",
    "#     print('... World!')\n",
    "\n",
    "# # Python 3.7+\n",
    "# asyncio.run(main())"
   ]
  },
  {
   "cell_type": "code",
   "execution_count": 20,
   "id": "aa034f83",
   "metadata": {},
   "outputs": [
    {
     "data": {
      "text/plain": [
       "23"
      ]
     },
     "execution_count": 20,
     "metadata": {},
     "output_type": "execute_result"
    }
   ],
   "source": [
    "# decorator\n",
    "def plus(a,b):\n",
    "    c=a+b\n",
    "    #print(c)\n",
    "    return c\n",
    "plus(15,8)"
   ]
  },
  {
   "cell_type": "code",
   "execution_count": 27,
   "id": "cbf4c6e9",
   "metadata": {},
   "outputs": [
    {
     "name": "stdout",
     "output_type": "stream",
     "text": [
      "120 1.875\n",
      "23\n"
     ]
    }
   ],
   "source": [
    "def mydeco(myfuc):\n",
    "    def mul(a,b):\n",
    "        c=a*b\n",
    "        d=a/b\n",
    "        print(c,d)\n",
    "        myfuc(a,b)\n",
    "    return mul\n",
    "\n",
    "@mydeco\n",
    "def plus(a,b):\n",
    "    c=a+b\n",
    "    print(c)\n",
    "    return \n",
    "plus(15,8)"
   ]
  },
  {
   "cell_type": "code",
   "execution_count": 9,
   "id": "ce55c22f",
   "metadata": {},
   "outputs": [
    {
     "name": "stdout",
     "output_type": "stream",
     "text": [
      "40\n"
     ]
    }
   ],
   "source": [
    "plus(5,8)"
   ]
  },
  {
   "cell_type": "code",
   "execution_count": null,
   "id": "523bd7f2",
   "metadata": {},
   "outputs": [],
   "source": []
  },
  {
   "cell_type": "code",
   "execution_count": null,
   "id": "f7981bdf",
   "metadata": {},
   "outputs": [],
   "source": []
  },
  {
   "cell_type": "code",
   "execution_count": null,
   "id": "6785a788",
   "metadata": {},
   "outputs": [],
   "source": []
  }
 ],
 "metadata": {
  "kernelspec": {
   "display_name": "Python 3 (ipykernel)",
   "language": "python",
   "name": "python3"
  },
  "language_info": {
   "codemirror_mode": {
    "name": "ipython",
    "version": 3
   },
   "file_extension": ".py",
   "mimetype": "text/x-python",
   "name": "python",
   "nbconvert_exporter": "python",
   "pygments_lexer": "ipython3",
   "version": "3.8.10"
  }
 },
 "nbformat": 4,
 "nbformat_minor": 5
}
